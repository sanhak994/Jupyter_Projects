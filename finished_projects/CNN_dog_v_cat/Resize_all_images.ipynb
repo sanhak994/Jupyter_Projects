{
 "cells": [
  {
   "cell_type": "code",
   "execution_count": 13,
   "metadata": {},
   "outputs": [],
   "source": [
    "from PIL import Image\n",
    "import os, sys\n",
    "\n",
    "path = \"dataset/training_set/cats/\"\n",
    "dirs = os.listdir( path )\n",
    "\n",
    "def resize():\n",
    "    num = 0\n",
    "    for item in dirs:\n",
    "        if os.path.isfile(path+item):\n",
    "            num+=1\n",
    "            im = Image.open(path+item)\n",
    "            f, e = os.path.splitext(path+item)\n",
    "            imResize = im.resize((200,200), Image.ANTIALIAS)\n",
    "            imResize.save('cat_train_resized/'+ 'Cat' + str(num) + 'resized.jpg', 'JPEG', quality=90)\n",
    "\n",
    "resize()"
   ]
  },
  {
   "cell_type": "code",
   "execution_count": 14,
   "metadata": {},
   "outputs": [],
   "source": [
    "path = \"dataset/training_set/dogs/\"\n",
    "dirs = os.listdir( path )\n",
    "\n",
    "def resize():\n",
    "    num = 0\n",
    "    for item in dirs:\n",
    "        if os.path.isfile(path+item):\n",
    "            num+=1\n",
    "            im = Image.open(path+item)\n",
    "            f, e = os.path.splitext(path+item)\n",
    "            imResize = im.resize((200,200), Image.ANTIALIAS)\n",
    "            imResize.save('dog_train_resized/'+ 'Dog' + str(num) + 'resized.jpg', 'JPEG', quality=90)\n",
    "\n",
    "resize()"
   ]
  },
  {
   "cell_type": "code",
   "execution_count": 15,
   "metadata": {},
   "outputs": [],
   "source": [
    "path = \"dataset/test_set/dogs/\"\n",
    "dirs = os.listdir( path )\n",
    "\n",
    "def resize():\n",
    "    num = 0\n",
    "    for item in dirs:\n",
    "        if os.path.isfile(path+item):\n",
    "            num+=1\n",
    "            im = Image.open(path+item)\n",
    "            f, e = os.path.splitext(path+item)\n",
    "            imResize = im.resize((200,200), Image.ANTIALIAS)\n",
    "            imResize.save('dog_test_resized/'+ 'Dog' + str(num) + 'resized.jpg', 'JPEG', quality=90)\n",
    "\n",
    "resize()"
   ]
  },
  {
   "cell_type": "code",
   "execution_count": 16,
   "metadata": {},
   "outputs": [],
   "source": [
    "path = \"dataset/test_set/cats/\"\n",
    "dirs = os.listdir( path )\n",
    "\n",
    "def resize():\n",
    "    num = 0\n",
    "    for item in dirs:\n",
    "        if os.path.isfile(path+item):\n",
    "            num+=1\n",
    "            im = Image.open(path+item)\n",
    "            f, e = os.path.splitext(path+item)\n",
    "            imResize = im.resize((200,200), Image.ANTIALIAS)\n",
    "            imResize.save('cat_test_resized/'+ 'Cat' + str(num) + 'resized.jpg', 'JPEG', quality=90)\n",
    "\n",
    "resize()"
   ]
  },
  {
   "cell_type": "code",
   "execution_count": null,
   "metadata": {},
   "outputs": [],
   "source": []
  }
 ],
 "metadata": {
  "kernelspec": {
   "display_name": "Python 3",
   "language": "python",
   "name": "python3"
  },
  "language_info": {
   "codemirror_mode": {
    "name": "ipython",
    "version": 3
   },
   "file_extension": ".py",
   "mimetype": "text/x-python",
   "name": "python",
   "nbconvert_exporter": "python",
   "pygments_lexer": "ipython3",
   "version": "3.7.3"
  }
 },
 "nbformat": 4,
 "nbformat_minor": 2
}
