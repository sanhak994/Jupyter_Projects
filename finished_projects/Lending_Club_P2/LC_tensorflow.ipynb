{
 "cells": [
  {
   "cell_type": "code",
   "execution_count": 2,
   "metadata": {},
   "outputs": [
    {
     "data": {
      "text/html": [
       "\n",
       "<style>\n",
       ".output {\n",
       "    display: flex;\n",
       "    align-items: center;\n",
       "    text-align: center;\n",
       "    \n",
       "}\n",
       "div.output_subarea{\n",
       "    max-width:1200px;\n",
       "}\n",
       "div.text_cell_render{\n",
       "padding: 5em 5em 0.5em 0.5em\n",
       "}\n",
       "\n",
       "</style>\n"
      ],
      "text/plain": [
       "<IPython.core.display.HTML object>"
      ]
     },
     "metadata": {},
     "output_type": "display_data"
    }
   ],
   "source": [
    "import pandas as pd\n",
    "import numpy as np\n",
    "import matplotlib.pyplot as plt\n",
    "import seaborn as sns\n",
    "\n",
    "\n",
    "from IPython.display import display, HTML, Markdown, Latex\n",
    "display(HTML(\"\"\"\n",
    "<style>\n",
    ".output {\n",
    "    display: flex;\n",
    "    align-items: center;\n",
    "    text-align: center;\n",
    "    \n",
    "}\n",
    "div.output_subarea{\n",
    "    max-width:1200px;\n",
    "}\n",
    "div.text_cell_render{\n",
    "padding: 5em 5em 0.5em 0.5em\n",
    "}\n",
    "\n",
    "</style>\n",
    "\"\"\"))"
   ]
  },
  {
   "cell_type": "markdown",
   "metadata": {},
   "source": [
    "### This is part 2 of the Lending Club project, where I will attempt to improve on the KNN model using a Neural Net "
   ]
  },
  {
   "cell_type": "code",
   "execution_count": 3,
   "metadata": {},
   "outputs": [],
   "source": [
    "df = pd.read_pickle(\"LC_tf.pkl\")"
   ]
  },
  {
   "cell_type": "code",
   "execution_count": null,
   "metadata": {},
   "outputs": [],
   "source": []
  },
  {
   "cell_type": "markdown",
   "metadata": {},
   "source": [
    "### Same dataset as before"
   ]
  },
  {
   "cell_type": "code",
   "execution_count": 6,
   "metadata": {},
   "outputs": [
    {
     "data": {
      "text/html": [
       "<div>\n",
       "<style scoped>\n",
       "    .dataframe tbody tr th:only-of-type {\n",
       "        vertical-align: middle;\n",
       "    }\n",
       "\n",
       "    .dataframe tbody tr th {\n",
       "        vertical-align: top;\n",
       "    }\n",
       "\n",
       "    .dataframe thead th {\n",
       "        text-align: right;\n",
       "    }\n",
       "</style>\n",
       "<table border=\"1\" class=\"dataframe\">\n",
       "  <thead>\n",
       "    <tr style=\"text-align: right;\">\n",
       "      <th></th>\n",
       "      <th>loan_amnt</th>\n",
       "      <th>funded_amnt</th>\n",
       "      <th>funded_amnt_inv</th>\n",
       "      <th>installment</th>\n",
       "      <th>annual_inc</th>\n",
       "    </tr>\n",
       "  </thead>\n",
       "  <tbody>\n",
       "    <tr>\n",
       "      <th>1273506</th>\n",
       "      <td>9600.0</td>\n",
       "      <td>9600.0</td>\n",
       "      <td>9600.0</td>\n",
       "      <td>323.42</td>\n",
       "      <td>21900.0</td>\n",
       "    </tr>\n",
       "    <tr>\n",
       "      <th>324024</th>\n",
       "      <td>4000.0</td>\n",
       "      <td>4000.0</td>\n",
       "      <td>4000.0</td>\n",
       "      <td>122.93</td>\n",
       "      <td>83000.0</td>\n",
       "    </tr>\n",
       "    <tr>\n",
       "      <th>2066630</th>\n",
       "      <td>6025.0</td>\n",
       "      <td>6025.0</td>\n",
       "      <td>6025.0</td>\n",
       "      <td>197.00</td>\n",
       "      <td>52000.0</td>\n",
       "    </tr>\n",
       "  </tbody>\n",
       "</table>\n",
       "</div>"
      ],
      "text/plain": [
       "         loan_amnt  funded_amnt  funded_amnt_inv  installment  annual_inc\n",
       "1273506     9600.0       9600.0           9600.0       323.42     21900.0\n",
       "324024      4000.0       4000.0           4000.0       122.93     83000.0\n",
       "2066630     6025.0       6025.0           6025.0       197.00     52000.0"
      ]
     },
     "execution_count": 6,
     "metadata": {},
     "output_type": "execute_result"
    }
   ],
   "source": [
    "df.iloc[:,:5].head(3)"
   ]
  },
  {
   "cell_type": "code",
   "execution_count": 7,
   "metadata": {},
   "outputs": [],
   "source": [
    "from sklearn.model_selection import train_test_split\n",
    "from sklearn.preprocessing import MinMaxScaler"
   ]
  },
  {
   "cell_type": "code",
   "execution_count": 8,
   "metadata": {},
   "outputs": [
    {
     "data": {
      "text/plain": [
       "Index(['loan_amnt', 'funded_amnt', 'funded_amnt_inv', 'installment',\n",
       "       'annual_inc', 'dti', 'delinq_2yrs', 'fico_range_low', 'fico_range_high',\n",
       "       'inq_last_6mths', 'open_acc', 'pub_rec', 'revol_bal', 'revol_util',\n",
       "       'total_acc', 'out_prncp', 'out_prncp_inv', 'total_pymnt',\n",
       "       'total_pymnt_inv', 'total_rec_prncp', 'total_rec_int',\n",
       "       'total_rec_late_fee', 'recoveries', 'collection_recovery_fee',\n",
       "       'last_pymnt_amnt', 'last_fico_range_high', 'last_fico_range_low',\n",
       "       'collections_12_mths_ex_med', 'policy_code', 'acc_now_delinq',\n",
       "       'chargeoff_within_12_mths', 'delinq_amnt', 'pub_rec_bankruptcies',\n",
       "       'tax_liens', 'grade_dum', 'FullyPaid'],\n",
       "      dtype='object')"
      ]
     },
     "execution_count": 8,
     "metadata": {},
     "output_type": "execute_result"
    }
   ],
   "source": [
    "df.columns"
   ]
  },
  {
   "cell_type": "code",
   "execution_count": 9,
   "metadata": {},
   "outputs": [],
   "source": [
    "df = df.drop('grade_dum', axis=1)"
   ]
  },
  {
   "cell_type": "code",
   "execution_count": 10,
   "metadata": {},
   "outputs": [],
   "source": [
    "X = df.drop(\"FullyPaid\", axis=1).values\n",
    "y = df['FullyPaid'].values"
   ]
  },
  {
   "cell_type": "code",
   "execution_count": 11,
   "metadata": {},
   "outputs": [],
   "source": [
    "X_train, X_test, y_train, y_test = train_test_split(X, y, test_size=0.3, \n",
    "                                                    random_state=42)"
   ]
  },
  {
   "cell_type": "code",
   "execution_count": 12,
   "metadata": {},
   "outputs": [],
   "source": [
    "scaler = MinMaxScaler()"
   ]
  },
  {
   "cell_type": "code",
   "execution_count": 13,
   "metadata": {},
   "outputs": [
    {
     "data": {
      "text/plain": [
       "MinMaxScaler(copy=True, feature_range=(0, 1))"
      ]
     },
     "execution_count": 13,
     "metadata": {},
     "output_type": "execute_result"
    }
   ],
   "source": [
    "scaler.fit(X_train)"
   ]
  },
  {
   "cell_type": "code",
   "execution_count": 14,
   "metadata": {},
   "outputs": [],
   "source": [
    "X_train = scaler.transform(X_train)\n",
    "X_test = scaler.transform(X_test)"
   ]
  },
  {
   "cell_type": "markdown",
   "metadata": {},
   "source": [
    "### Given the shape of X_train, the Neural Net will have atleast 35 units for the first layer"
   ]
  },
  {
   "cell_type": "code",
   "execution_count": 15,
   "metadata": {},
   "outputs": [
    {
     "data": {
      "text/plain": [
       "(4115, 34)"
      ]
     },
     "execution_count": 15,
     "metadata": {},
     "output_type": "execute_result"
    }
   ],
   "source": [
    "X_train.shape"
   ]
  },
  {
   "cell_type": "code",
   "execution_count": 16,
   "metadata": {},
   "outputs": [],
   "source": [
    "from tensorflow.keras.models import Sequential\n",
    "from tensorflow.keras.layers import Dense, Dropout\n",
    "from tensorflow.keras.callbacks import EarlyStopping"
   ]
  },
  {
   "cell_type": "code",
   "execution_count": 17,
   "metadata": {},
   "outputs": [],
   "source": [
    "early_stop = EarlyStopping(patience=3)"
   ]
  },
  {
   "cell_type": "code",
   "execution_count": 18,
   "metadata": {
    "scrolled": true
   },
   "outputs": [
    {
     "name": "stdout",
     "output_type": "stream",
     "text": [
      "Train on 4115 samples, validate on 1764 samples\n",
      "Epoch 1/30\n",
      "4115/4115 [==============================] - 1s 149us/sample - loss: 0.6217 - accuracy: 0.7043 - val_loss: 0.5126 - val_accuracy: 0.7982\n",
      "Epoch 2/30\n",
      "4115/4115 [==============================] - 0s 43us/sample - loss: 0.5143 - accuracy: 0.7876 - val_loss: 0.4094 - val_accuracy: 0.7982\n",
      "Epoch 3/30\n",
      "4115/4115 [==============================] - 0s 48us/sample - loss: 0.4371 - accuracy: 0.7968 - val_loss: 0.2693 - val_accuracy: 0.7982\n",
      "Epoch 4/30\n",
      "4115/4115 [==============================] - 0s 42us/sample - loss: 0.3473 - accuracy: 0.8527 - val_loss: 0.1573 - val_accuracy: 0.9666\n",
      "Epoch 5/30\n",
      "4115/4115 [==============================] - 0s 43us/sample - loss: 0.2758 - accuracy: 0.8887 - val_loss: 0.0952 - val_accuracy: 0.9700\n",
      "Epoch 6/30\n",
      "4115/4115 [==============================] - 0s 44us/sample - loss: 0.2285 - accuracy: 0.9174 - val_loss: 0.0739 - val_accuracy: 0.9734\n",
      "Epoch 7/30\n",
      "4115/4115 [==============================] - 0s 43us/sample - loss: 0.2037 - accuracy: 0.9283 - val_loss: 0.0620 - val_accuracy: 0.9773\n",
      "Epoch 8/30\n",
      "4115/4115 [==============================] - 0s 45us/sample - loss: 0.1855 - accuracy: 0.9329 - val_loss: 0.0552 - val_accuracy: 0.9807\n",
      "Epoch 9/30\n",
      "4115/4115 [==============================] - 0s 44us/sample - loss: 0.1747 - accuracy: 0.9329 - val_loss: 0.0458 - val_accuracy: 0.9881\n",
      "Epoch 10/30\n",
      "4115/4115 [==============================] - 0s 51us/sample - loss: 0.1705 - accuracy: 0.9356 - val_loss: 0.0424 - val_accuracy: 0.9892\n",
      "Epoch 11/30\n",
      "4115/4115 [==============================] - 0s 50us/sample - loss: 0.1546 - accuracy: 0.9395 - val_loss: 0.0372 - val_accuracy: 0.9904\n",
      "Epoch 12/30\n",
      "4115/4115 [==============================] - 0s 48us/sample - loss: 0.1426 - accuracy: 0.9478 - val_loss: 0.0350 - val_accuracy: 0.9892\n",
      "Epoch 13/30\n",
      "4115/4115 [==============================] - 0s 53us/sample - loss: 0.1322 - accuracy: 0.9531 - val_loss: 0.0333 - val_accuracy: 0.9892\n",
      "Epoch 14/30\n",
      "4115/4115 [==============================] - 0s 48us/sample - loss: 0.1251 - accuracy: 0.9582 - val_loss: 0.0303 - val_accuracy: 0.9892\n",
      "Epoch 15/30\n",
      "4115/4115 [==============================] - 0s 42us/sample - loss: 0.1205 - accuracy: 0.9572 - val_loss: 0.0334 - val_accuracy: 0.9858\n",
      "Epoch 16/30\n",
      "4115/4115 [==============================] - 0s 41us/sample - loss: 0.1233 - accuracy: 0.9560 - val_loss: 0.0240 - val_accuracy: 0.9915\n",
      "Epoch 17/30\n",
      "4115/4115 [==============================] - 0s 42us/sample - loss: 0.1165 - accuracy: 0.9618 - val_loss: 0.0275 - val_accuracy: 0.9915\n",
      "Epoch 18/30\n",
      "4115/4115 [==============================] - 0s 46us/sample - loss: 0.1171 - accuracy: 0.9650 - val_loss: 0.0223 - val_accuracy: 0.9932\n",
      "Epoch 19/30\n",
      "4115/4115 [==============================] - 0s 42us/sample - loss: 0.1116 - accuracy: 0.9606 - val_loss: 0.0216 - val_accuracy: 0.9932\n",
      "Epoch 20/30\n",
      "4115/4115 [==============================] - 0s 41us/sample - loss: 0.1062 - accuracy: 0.9623 - val_loss: 0.0194 - val_accuracy: 0.9943\n",
      "Epoch 21/30\n",
      "4115/4115 [==============================] - 0s 41us/sample - loss: 0.1069 - accuracy: 0.9616 - val_loss: 0.0222 - val_accuracy: 0.9926\n",
      "Epoch 22/30\n",
      "4115/4115 [==============================] - 0s 42us/sample - loss: 0.1095 - accuracy: 0.9655 - val_loss: 0.0202 - val_accuracy: 0.9938\n",
      "Epoch 23/30\n",
      "4115/4115 [==============================] - 0s 43us/sample - loss: 0.0966 - accuracy: 0.9672 - val_loss: 0.0213 - val_accuracy: 0.9932\n",
      "Model: \"sequential\"\n",
      "_________________________________________________________________\n",
      "Layer (type)                 Output Shape              Param #   \n",
      "=================================================================\n",
      "dense (Dense)                multiple                  1225      \n",
      "_________________________________________________________________\n",
      "dropout (Dropout)            multiple                  0         \n",
      "_________________________________________________________________\n",
      "dense_1 (Dense)              multiple                  1260      \n",
      "_________________________________________________________________\n",
      "dropout_1 (Dropout)          multiple                  0         \n",
      "_________________________________________________________________\n",
      "dense_2 (Dense)              multiple                  360       \n",
      "_________________________________________________________________\n",
      "dropout_2 (Dropout)          multiple                  0         \n",
      "_________________________________________________________________\n",
      "dense_3 (Dense)              multiple                  110       \n",
      "_________________________________________________________________\n",
      "dropout_3 (Dropout)          multiple                  0         \n",
      "_________________________________________________________________\n",
      "dense_4 (Dense)              multiple                  11        \n",
      "=================================================================\n",
      "Total params: 2,966\n",
      "Trainable params: 2,966\n",
      "Non-trainable params: 0\n",
      "_________________________________________________________________\n"
     ]
    }
   ],
   "source": [
    "model = Sequential()\n",
    "\n",
    "model.add(Dense(35, activation='relu'))\n",
    "model.add(Dropout(0.5))\n",
    "\n",
    "model.add(Dense(35, activation='relu'))\n",
    "model.add(Dropout(0.5))\n",
    "\n",
    "model.add(Dense(10, activation='relu'))\n",
    "model.add(Dropout(0.5))\n",
    "\n",
    "model.add(Dense(10, activation='relu'))\n",
    "model.add(Dropout(0.5))\n",
    "\n",
    "model.add(Dense(1, activation='sigmoid'))\n",
    "\n",
    "model.compile(optimizer = 'adam', loss='binary_crossentropy', metrics=['accuracy'])\n",
    "\n",
    "\n",
    "\n",
    "model.fit(x=X_train, y=y_train,\n",
    "         epochs=30,\n",
    "         validation_data=(X_test, y_test),\n",
    "          callbacks = [early_stop])\n",
    "\n",
    "model.summary()"
   ]
  },
  {
   "cell_type": "code",
   "execution_count": 19,
   "metadata": {},
   "outputs": [],
   "source": [
    "losses = pd.DataFrame(model.history.history)"
   ]
  },
  {
   "cell_type": "markdown",
   "metadata": {},
   "source": [
    "### With early stopping the model only took about 20 epochs to train. The results below indicate that validation accuracy is always very high, which highlights the skew in the data (most people pay back the loan). Another problem could be that the dataset is simply too small with only around 6k points. Neural nets typically excel at detecting edge cases, which a larger dataset may be able to capture. "
   ]
  },
  {
   "cell_type": "code",
   "execution_count": 20,
   "metadata": {},
   "outputs": [
    {
     "data": {
      "text/plain": [
       "<matplotlib.axes._subplots.AxesSubplot at 0x7f8443763e10>"
      ]
     },
     "execution_count": 20,
     "metadata": {},
     "output_type": "execute_result"
    },
    {
     "data": {
      "image/png": "[encoded data removed]",
      "text/plain": [
       "<Figure size 720x432 with 1 Axes>"
      ]
     },
     "metadata": {
      "needs_background": "light"
     },
     "output_type": "display_data"
    },
    {
     "data": {
      "image/png": "[encoded data removed]",
      "text/plain": [
       "<Figure size 720x432 with 1 Axes>"
      ]
     },
     "metadata": {
      "needs_background": "light"
     },
     "output_type": "display_data"
    }
   ],
   "source": [
    "losses[['accuracy', 'val_accuracy']].plot(figsize=[10,6])\n",
    "losses[['loss', 'val_loss']].plot(figsize=[10,6])"
   ]
  },
  {
   "cell_type": "code",
   "execution_count": 21,
   "metadata": {},
   "outputs": [],
   "source": [
    "predictions = model.predict_classes(X_test)"
   ]
  },
  {
   "cell_type": "code",
   "execution_count": 22,
   "metadata": {},
   "outputs": [],
   "source": [
    "from sklearn.metrics import classification_report, confusion_matrix"
   ]
  },
  {
   "cell_type": "markdown",
   "metadata": {},
   "source": [
    "### The Neural Net still crushes the KNN model. The KNN model had an f1-score of about 0.87 for defaulters, which is far lower than the Neural net. Overall, this model is far superior at detecting edge cases and is not harmed by the skew of the data.\n",
    "Note, that for Fully Paid off loans (1), the f1-score is 100%. The KNN model was already doing quite well with that category so I do not find the perfect score to be suspicious."
   ]
  },
  {
   "cell_type": "code",
   "execution_count": 23,
   "metadata": {},
   "outputs": [
    {
     "name": "stdout",
     "output_type": "stream",
     "text": [
      "              precision    recall  f1-score   support\n",
      "\n",
      "           0       0.99      0.98      0.98       356\n",
      "           1       0.99      1.00      1.00      1408\n",
      "\n",
      "   micro avg       0.99      0.99      0.99      1764\n",
      "   macro avg       0.99      0.99      0.99      1764\n",
      "weighted avg       0.99      0.99      0.99      1764\n",
      "\n"
     ]
    }
   ],
   "source": [
    "print(classification_report(y_test, predictions))"
   ]
  },
  {
   "cell_type": "markdown",
   "metadata": {},
   "source": [
    "### If I were to guess at random if potential client would default on a loan or not I would be correct on avearge about $$ \\frac{1175*100}{1175+4704} = 20\\% $$ \n",
    "### of the time. However, with my Neural Net model that accuracy jumps up to about 99%, allowing LC to make better decisions. "
   ]
  },
  {
   "cell_type": "code",
   "execution_count": 20,
   "metadata": {},
   "outputs": [
    {
     "data": {
      "text/plain": [
       "FullyPaid\n",
       "0    1175\n",
       "1    4704\n",
       "Name: loan_amnt, dtype: int64"
      ]
     },
     "execution_count": 20,
     "metadata": {},
     "output_type": "execute_result"
    }
   ],
   "source": [
    "df.groupby('FullyPaid')['loan_amnt'].count()"
   ]
  },
  {
   "cell_type": "code",
   "execution_count": 23,
   "metadata": {},
   "outputs": [],
   "source": [
    "# 1175*100/(1175+4704)"
   ]
  }
 ],
 "metadata": {
  "kernelspec": {
   "display_name": "Python 3",
   "language": "python",
   "name": "python3"
  },
  "language_info": {
   "codemirror_mode": {
    "name": "ipython",
    "version": 3
   },
   "file_extension": ".py",
   "mimetype": "text/x-python",
   "name": "python",
   "nbconvert_exporter": "python",
   "pygments_lexer": "ipython3",
   "version": "3.7.3"
  }
 },
 "nbformat": 4,
 "nbformat_minor": 2
}
